{
 "cells": [
  {
   "cell_type": "code",
   "execution_count": 102,
   "metadata": {},
   "outputs": [],
   "source": [
    "import pandas as pd\n",
    "import numpy as np\n",
    "import matplotlib as plt\n",
    "import scipy\n",
    "import scipy.spatial.distance as cd\n",
    "from sklearn import linear_model\n",
    "import seaborn as sns"
   ]
  },
  {
   "cell_type": "code",
   "execution_count": 160,
   "metadata": {},
   "outputs": [],
   "source": [
    "train=pd.read_csv('train.csv', nrows=1000000)\n",
    "test=pd.read_csv('test.csv')"
   ]
  },
  {
   "cell_type": "code",
   "execution_count": 166,
   "metadata": {
    "scrolled": true
   },
   "outputs": [],
   "source": [
    "train= train.dropna(how = 'any', axis = 'rows')"
   ]
  },
  {
   "cell_type": "code",
   "execution_count": 168,
   "metadata": {},
   "outputs": [],
   "source": [
    "test= test.dropna(how = 'any', axis = 'rows')"
   ]
  },
  {
   "cell_type": "code",
   "execution_count": 169,
   "metadata": {},
   "outputs": [],
   "source": [
    "combine=[train,test]"
   ]
  },
  {
   "cell_type": "code",
   "execution_count": 170,
   "metadata": {},
   "outputs": [],
   "source": [
    "def distance(pickup_long, pickup_lat, dropoff_long,dropoff_lat):\n",
    "    long_diff = abs(pickup_long - dropoff_long)\n",
    "    lat_diff = abs(pickup_lat - dropoff_lat)\n",
    "    if ((long_diff is None)|(lat_diff is None)):\n",
    "        distance = 0\n",
    "    else:\n",
    "        distance = np.sqrt(long_diff**2+lat_diff**2)\n",
    "    return distance"
   ]
  },
  {
   "cell_type": "code",
   "execution_count": 171,
   "metadata": {},
   "outputs": [],
   "source": [
    "pickup_long = train['pickup_longitude'].values\n",
    "pickup_lat = train['pickup_latitude'].values\n",
    "dropoff_long = train['dropoff_longitude'].values\n",
    "dropoff_lat = train['dropoff_latitude'].values"
   ]
  },
  {
   "cell_type": "code",
   "execution_count": 172,
   "metadata": {},
   "outputs": [],
   "source": [
    "test_pickup_long = test['pickup_longitude'].values\n",
    "test_pickup_lat = test['pickup_latitude'].values\n",
    "test_dropoff_long = test['dropoff_longitude'].values\n",
    "test_dropoff_lat = test['dropoff_latitude'].values"
   ]
  },
  {
   "cell_type": "code",
   "execution_count": 173,
   "metadata": {},
   "outputs": [],
   "source": [
    "for dataset in combine:\n",
    "    dataset['distance'] = pd.DataFrame(distance(pickup_long, pickup_lat, dropoff_long,dropoff_lat))"
   ]
  },
  {
   "cell_type": "code",
   "execution_count": 174,
   "metadata": {},
   "outputs": [],
   "source": [
    "for  dataset in combine:\n",
    "    date=[]\n",
    "    for i in dataset['pickup_datetime']:\n",
    "        i = i.split(' ')[0]\n",
    "        date.append(i)\n",
    "    dataset['date']=date"
   ]
  },
  {
   "cell_type": "code",
   "execution_count": 175,
   "metadata": {},
   "outputs": [],
   "source": [
    "for  dataset in combine:\n",
    "    year=[]\n",
    "    for i in dataset['date']:\n",
    "        i = i.split('-')[0]\n",
    "        year.append(i)\n",
    "    dataset['year']=year"
   ]
  },
  {
   "cell_type": "code",
   "execution_count": 176,
   "metadata": {},
   "outputs": [],
   "source": [
    "for dataset in combine:\n",
    "    month=[]\n",
    "    for i in dataset['date']:\n",
    "        i = i.split('-')[1]\n",
    "        month.append(i)\n",
    "    dataset['month']=month"
   ]
  },
  {
   "cell_type": "code",
   "execution_count": 177,
   "metadata": {},
   "outputs": [],
   "source": [
    "for dataset in combine:\n",
    "    time=[]\n",
    "    for i in dataset['pickup_datetime']:\n",
    "        i = i.split(' ')[1]\n",
    "        time.append(i)\n",
    "    dataset['time']=time"
   ]
  },
  {
   "cell_type": "code",
   "execution_count": 178,
   "metadata": {},
   "outputs": [],
   "source": [
    "for dataset in combine:\n",
    "    hour=[]\n",
    "    for i in dataset['time']:\n",
    "        i = i.split(':')[0]\n",
    "        hour.append(i)\n",
    "    dataset['hour']=hour"
   ]
  },
  {
   "cell_type": "code",
   "execution_count": 179,
   "metadata": {},
   "outputs": [
    {
     "data": {
      "text/plain": [
       "count    999980.000000\n",
       "mean          0.231613\n",
       "std          11.284541\n",
       "min           0.000000\n",
       "25%           0.012400\n",
       "50%           0.021443\n",
       "75%           0.038403\n",
       "max        6933.843499\n",
       "Name: distance, dtype: float64"
      ]
     },
     "execution_count": 179,
     "metadata": {},
     "output_type": "execute_result"
    }
   ],
   "source": [
    "train['distance'].describe()"
   ]
  },
  {
   "cell_type": "code",
   "execution_count": 131,
   "metadata": {},
   "outputs": [],
   "source": [
    "test_distance_mean=test['long_diff'].dropna().mean()\n",
    "test['long_diff']=test['long_diff'].fillna('test_distance_mean')"
   ]
  },
  {
   "cell_type": "code",
   "execution_count": 132,
   "metadata": {},
   "outputs": [],
   "source": [
    "train_distance_mean=train['long_diff'].dropna().mean()\n",
    "train['long_diff']=train['long_diff'].fillna('traindistance_mean')"
   ]
  },
  {
   "cell_type": "code",
   "execution_count": 182,
   "metadata": {},
   "outputs": [],
   "source": [
    "for dataset in combine:\n",
    "    dataset['long_diff']=abs(dataset['pickup_longitude']-dataset['dropoff_longitude'])\n",
    "    dataset['lat_diff']=abs(dataset['pickup_latitude']-dataset['dropoff_latitude'])"
   ]
  },
  {
   "cell_type": "code",
   "execution_count": 183,
   "metadata": {},
   "outputs": [],
   "source": [
    "for dataset in combine:\n",
    "    dataset['hour']=dataset['hour'].astype('float')"
   ]
  },
  {
   "cell_type": "code",
   "execution_count": 184,
   "metadata": {},
   "outputs": [],
   "source": [
    "for dataset in combine:\n",
    "    dataset.loc[(dataset['hour']>=21) | (dataset['hour']<= 6), 'Period'] = 'midnight'\n",
    "    dataset.loc[(dataset['hour']>=7) & (dataset['hour']<= 10), 'Period'] = 'morning_rush'\n",
    "    dataset.loc[(dataset['hour']>=11) & (dataset['hour']<= 16), 'Period'] = 'slow'\n",
    "    dataset.loc[(dataset['hour']>=17) & (dataset['hour']<= 20), 'Period'] = 'evening_rush'"
   ]
  },
  {
   "cell_type": "code",
   "execution_count": 185,
   "metadata": {},
   "outputs": [],
   "source": [
    "for dataset in combine:\n",
    "    dataset['midnight'] = dataset['Period'].map( {'midnight': 1, 'morning_rush': 0, 'slow': 0, 'evening_rush': 0} ).astype(int)\n",
    "    dataset['morning_rush'] = dataset['Period'].map( {'midnight': 0, 'morning_rush': 1, 'slow': 0, 'evening_rush': 0} ).astype(int)\n",
    "    dataset['slow'] = dataset['Period'].map( {'midnight': 0, 'morning_rush': 0, 'slow': 1, 'evening_rush': 0} ).astype(int)\n",
    "    dataset['evening_rush'] = dataset['Period'].map( {'midnight': 0, 'morning_rush': 0, 'slow': 0, 'evening_rush': 1} ).astype(int)"
   ]
  },
  {
   "cell_type": "code",
   "execution_count": 186,
   "metadata": {
    "scrolled": true
   },
   "outputs": [
    {
     "data": {
      "text/plain": [
       "count    999980.000000\n",
       "mean          0.231613\n",
       "std          11.284541\n",
       "min           0.000000\n",
       "25%           0.012400\n",
       "50%           0.021443\n",
       "75%           0.038403\n",
       "max        6933.843499\n",
       "Name: distance, dtype: float64"
      ]
     },
     "execution_count": 186,
     "metadata": {},
     "output_type": "execute_result"
    }
   ],
   "source": [
    "train['distance'].describe()"
   ]
  },
  {
   "cell_type": "code",
   "execution_count": 118,
   "metadata": {
    "scrolled": true
   },
   "outputs": [
    {
     "name": "stderr",
     "output_type": "stream",
     "text": [
      "D:\\Annaconda\\Annaconda\\lib\\site-packages\\matplotlib\\axes\\_axes.py:6462: UserWarning: The 'normed' kwarg is deprecated, and has been replaced by the 'density' kwarg.\n",
      "  warnings.warn(\"The 'normed' kwarg is deprecated, and has been \"\n"
     ]
    },
    {
     "data": {
      "text/plain": [
       "<matplotlib.axes._subplots.AxesSubplot at 0x18891875198>"
      ]
     },
     "execution_count": 118,
     "metadata": {},
     "output_type": "execute_result"
    },
    {
     "data": {
      "image/png": "[encoded data removed]",
      "text/plain": [
       "<Figure size 432x288 with 1 Axes>"
      ]
     },
     "metadata": {},
     "output_type": "display_data"
    }
   ],
   "source": [
    "sns.distplot(train[train.distance<=0.4]['distance'])"
   ]
  },
  {
   "cell_type": "code",
   "execution_count": 187,
   "metadata": {},
   "outputs": [],
   "source": [
    "for dataset in combine:\n",
    "    dataset['distance']=dataset['distance'].astype('float')"
   ]
  },
  {
   "cell_type": "code",
   "execution_count": 188,
   "metadata": {},
   "outputs": [],
   "source": [
    "for dataset in combine:\n",
    "    dataset.loc[(dataset['distance']<=0.012), 'distance_type'] = '1_distance'\n",
    "    dataset.loc[(dataset['distance']>0.012) & (dataset['distance']<=0.022), 'distance_type'] = '2_distance'\n",
    "    dataset.loc[(dataset['distance']>0.022) & (dataset['distance']<=0.039), 'distance_type'] = '3_distance'\n",
    "    dataset.loc[(dataset['distance']>0.039) & (dataset['distance']<= 0.1), 'distance_type'] = '4_distance'\n",
    "    dataset.loc[(dataset['distance']>0.1) , 'distance_type'] = '5_distance'"
   ]
  },
  {
   "cell_type": "code",
   "execution_count": 189,
   "metadata": {},
   "outputs": [],
   "source": [
    "for dataset in combine:\n",
    "    dataset['1_distance'] = dataset['distance_type'].map( {'1_distance': 1, '2_distance': 0, '3_distance': 0, '4_distance': 0, '5_distance': 0} )\n",
    "    dataset['2_distance'] = dataset['distance_type'].map( {'1_distance': 0, '2_distance': 1, '3_distance': 0, '4_distance': 0, '5_distance': 0} )\n",
    "    dataset['3_distance'] = dataset['distance_type'].map( {'1_distance': 0, '2_distance': 0, '3_distance': 1, '4_distance': 0, '5_distance': 0} )\n",
    "    dataset['4_distance'] = dataset['distance_type'].map( {'1_distance': 0, '2_distance': 0, '3_distance': 0, '4_distance': 1, '5_distance': 0} )\n",
    "    dataset['5_distance'] = dataset['distance_type'].map( {'1_distance': 0, '2_distance': 0, '3_distance': 0, '4_distance': 0, '5_distance': 1} )"
   ]
  },
  {
   "cell_type": "code",
   "execution_count": 190,
   "metadata": {
    "scrolled": false
   },
   "outputs": [
    {
     "data": {
      "text/plain": [
       "0    2009\n",
       "1    2010\n",
       "2    2011\n",
       "3    2012\n",
       "4    2010\n",
       "Name: year, dtype: object"
      ]
     },
     "execution_count": 190,
     "metadata": {},
     "output_type": "execute_result"
    }
   ],
   "source": [
    "train['year'].head()"
   ]
  },
  {
   "cell_type": "code",
   "execution_count": 191,
   "metadata": {},
   "outputs": [
    {
     "data": {
      "text/plain": [
       "0"
      ]
     },
     "execution_count": 191,
     "metadata": {},
     "output_type": "execute_result"
    }
   ],
   "source": [
    "train['long_diff'].isnull().sum()"
   ]
  },
  {
   "cell_type": "code",
   "execution_count": 192,
   "metadata": {},
   "outputs": [],
   "source": [
    "X_train = pd.DataFrame(train,columns=[\"passenger_count\",\"long_diff\",\"lat_diff\",\"month\",\"year\",\"midnight\",\"morning_rush\",\"slow\",\"evening_rush\"]).values\n",
    "Y_train = train['fare_amount'].values\n",
    "lm = linear_model.LinearRegression()\n",
    "lm.fit(X_train, Y_train)\n",
    "X_pred = pd.DataFrame(test,columns=[\"passenger_count\",\"long_diff\",\"lat_diff\",\"month\",\"year\",\"midnight\",\"morning_rush\",\"slow\",\"evening_rush\"]).values\n",
    "Y_pred = lm.predict(X_pred)"
   ]
  },
  {
   "cell_type": "code",
   "execution_count": 193,
   "metadata": {},
   "outputs": [],
   "source": [
    "submission = pd.DataFrame(\n",
    "    {'key': test['key'].values, 'fare_amount': Y_pred},\n",
    "    columns = ['key', 'fare_amount'])\n",
    "submission.to_csv('submission.csv', index = False)"
   ]
  }
 ],
 "metadata": {
  "kernelspec": {
   "display_name": "Python 3",
   "language": "python",
   "name": "python3"
  },
  "language_info": {
   "codemirror_mode": {
    "name": "ipython",
    "version": 3
   },
   "file_extension": ".py",
   "mimetype": "text/x-python",
   "name": "python",
   "nbconvert_exporter": "python",
   "pygments_lexer": "ipython3",
   "version": "3.6.5"
  }
 },
 "nbformat": 4,
 "nbformat_minor": 2
}
