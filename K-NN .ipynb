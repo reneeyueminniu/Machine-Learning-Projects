{
 "cells": [
  {
   "cell_type": "code",
   "execution_count": 5,
   "metadata": {},
   "outputs": [],
   "source": [
    "import pandas as pd\n",
    "import numpy as np\n",
    "import matplotlib.pyplot as plt\n",
    "import scipy\n",
    "import scipy.spatial.distance as cd\n",
    "%matplotlib inline\n",
    "#Question 1(a) load csv files\n",
    "training_data = pd.read_csv('train.csv')\n",
    "test_set = pd.read_csv('test.csv')\n",
    "training_label = training_data.iloc[:,:1]\n",
    "\n",
    "#Question 1(b) \n",
    "#show digits by pixels\n",
    "def showdigit(pixels):\n",
    "    img = pixels.as_matrix()\n",
    "    img = img.reshape((28,28))\n",
    "    plt.imshow(img,cmap = 'gray')"
   ]
  },
  {
   "cell_type": "code",
   "execution_count": 6,
   "metadata": {},
   "outputs": [
    {
     "name": "stderr",
     "output_type": "stream",
     "text": [
      "/Users/yuejunfang/anaconda2/lib/python2.7/site-packages/matplotlib/axes/_axes.py:6462: UserWarning: The 'normed' kwarg is deprecated, and has been replaced by the 'density' kwarg.\n",
      "  warnings.warn(\"The 'normed' kwarg is deprecated, and has been \"\n"
     ]
    },
    {
     "data": {
      "text/plain": [
       "([<matplotlib.axis.YTick at 0x6168403d0>],\n",
       " <a list of 1 Text yticklabel objects>)"
      ]
     },
     "execution_count": 6,
     "metadata": {},
     "output_type": "execute_result"
    },
    {
     "data": {
      "image/png": "[encoded data removed]",
      "text/plain": [
       "<Figure size 432x288 with 1 Axes>"
      ]
     },
     "metadata": {},
     "output_type": "display_data"
    }
   ],
   "source": [
    "#Question 1(c)\n",
    "#Display Distributions of digits in training data. It seems quite EVEN\n",
    "plt.hist(training_data['label'],normed=False,rwidth=0.8,bins=10)\n",
    "plt.xlabel(\"Digit label\")\n",
    "plt.ylabel(\"Frequency\")\n",
    "plt.xticks(range(0,10))\n",
    "plt.yticks(range(0,1))"
   ]
  },
  {
   "cell_type": "code",
   "execution_count": 7,
   "metadata": {},
   "outputs": [],
   "source": [
    "#Question 1(d)\n",
    "#First, manually pick out 10 rows that stands for 0,1,2...,9. Gathering rowIndexes\n",
    "#Second, for each rowIndex, exec find_min_distance_in_training(rowIndex). Find its closest Neightbor\n",
    "#Then display the neighbor to see if it has the same label\n",
    "def find_min_distance_in_training(row):\n",
    "    a = [i for i in range(len(training_data.index)) if i != row] #exclude itself as it's always 0 seems the minimum\n",
    "    sm = cd.cdist([training_data.iloc[row,1:].values], training_data.iloc[a,1:].values, 'euclidean')\n",
    "    index =np.argmin(sm)\n",
    "    real_index = index if index<row else index+1\n",
    "    return real_index\n"
   ]
  },
  {
   "cell_type": "code",
   "execution_count": 8,
   "metadata": {},
   "outputs": [
    {
     "name": "stderr",
     "output_type": "stream",
     "text": [
      "/Users/yuejunfang/anaconda2/lib/python2.7/site-packages/ipykernel_launcher.py:13: FutureWarning: Method .as_matrix will be removed in a future version. Use .values instead.\n",
      "  del sys.path[0]\n"
     ]
    },
    {
     "data": {
      "image/png": "[encoded data removed]",
      "text/plain": [
       "<Figure size 432x288 with 1 Axes>"
      ]
     },
     "metadata": {},
     "output_type": "display_data"
    }
   ],
   "source": [
    "#row=2 has label=1\n",
    "L1 = find_min_distance_in_training(2)\n",
    "showdigit(training_data.iloc[L1,1:])"
   ]
  },
  {
   "cell_type": "code",
   "execution_count": 9,
   "metadata": {},
   "outputs": [
    {
     "name": "stderr",
     "output_type": "stream",
     "text": [
      "/Users/yuejunfang/anaconda2/lib/python2.7/site-packages/ipykernel_launcher.py:13: FutureWarning: Method .as_matrix will be removed in a future version. Use .values instead.\n",
      "  del sys.path[0]\n"
     ]
    },
    {
     "data": {
      "image/png": "[encoded data removed]",
      "text/plain": [
       "<Figure size 432x288 with 1 Axes>"
      ]
     },
     "metadata": {},
     "output_type": "display_data"
    }
   ],
   "source": [
    "#row=16 has label=2\n",
    "L2 = find_min_distance_in_training(16)\n",
    "showdigit(training_data.iloc[L2,1:])"
   ]
  },
  {
   "cell_type": "code",
   "execution_count": 10,
   "metadata": {},
   "outputs": [
    {
     "name": "stderr",
     "output_type": "stream",
     "text": [
      "/Users/yuejunfang/anaconda2/lib/python2.7/site-packages/ipykernel_launcher.py:13: FutureWarning: Method .as_matrix will be removed in a future version. Use .values instead.\n",
      "  del sys.path[0]\n"
     ]
    },
    {
     "data": {
      "image/png": "[encoded data removed]",
      "text/plain": [
       "<Figure size 432x288 with 1 Axes>"
      ]
     },
     "metadata": {},
     "output_type": "display_data"
    }
   ],
   "source": [
    "#row 7 has label=3\n",
    "#erroneous the closest vector is actually 5 not 3\n",
    "L3 = find_min_distance_in_training(7) \n",
    "showdigit(training_data.iloc[L3,1:])"
   ]
  },
  {
   "cell_type": "code",
   "execution_count": 11,
   "metadata": {},
   "outputs": [
    {
     "name": "stderr",
     "output_type": "stream",
     "text": [
      "/Users/yuejunfang/anaconda2/lib/python2.7/site-packages/ipykernel_launcher.py:13: FutureWarning: Method .as_matrix will be removed in a future version. Use .values instead.\n",
      "  del sys.path[0]\n"
     ]
    },
    {
     "data": {
      "image/png": "[encoded data removed]",
      "text/plain": [
       "<Figure size 432x288 with 1 Axes>"
      ]
     },
     "metadata": {},
     "output_type": "display_data"
    }
   ],
   "source": [
    "#row 3 has label=4\n",
    "L4 = find_min_distance_in_training(3)\n",
    "showdigit(training_data.iloc[L4,1:])"
   ]
  },
  {
   "cell_type": "code",
   "execution_count": 12,
   "metadata": {},
   "outputs": [
    {
     "name": "stderr",
     "output_type": "stream",
     "text": [
      "/Users/yuejunfang/anaconda2/lib/python2.7/site-packages/ipykernel_launcher.py:13: FutureWarning: Method .as_matrix will be removed in a future version. Use .values instead.\n",
      "  del sys.path[0]\n"
     ]
    },
    {
     "data": {
      "image/png": "[encoded data removed]",
      "text/plain": [
       "<Figure size 432x288 with 1 Axes>"
      ]
     },
     "metadata": {},
     "output_type": "display_data"
    }
   ],
   "source": [
    "#row 8 has label=5\n",
    "L5 = find_min_distance_in_training(8)\n",
    "showdigit(training_data.iloc[L5,1:])"
   ]
  },
  {
   "cell_type": "code",
   "execution_count": 13,
   "metadata": {},
   "outputs": [
    {
     "name": "stderr",
     "output_type": "stream",
     "text": [
      "/Users/yuejunfang/anaconda2/lib/python2.7/site-packages/ipykernel_launcher.py:13: FutureWarning: Method .as_matrix will be removed in a future version. Use .values instead.\n",
      "  del sys.path[0]\n"
     ]
    },
    {
     "data": {
      "image/png": "[encoded data removed]",
      "text/plain": [
       "<Figure size 432x288 with 1 Axes>"
      ]
     },
     "metadata": {},
     "output_type": "display_data"
    }
   ],
   "source": [
    "#row 21 has label=6\n",
    "L6 = find_min_distance_in_training(21)\n",
    "showdigit(training_data.iloc[L6,1:])"
   ]
  },
  {
   "cell_type": "code",
   "execution_count": 14,
   "metadata": {},
   "outputs": [
    {
     "name": "stderr",
     "output_type": "stream",
     "text": [
      "/Users/yuejunfang/anaconda2/lib/python2.7/site-packages/ipykernel_launcher.py:13: FutureWarning: Method .as_matrix will be removed in a future version. Use .values instead.\n",
      "  del sys.path[0]\n"
     ]
    },
    {
     "data": {
      "image/png": "[encoded data removed]",
      "text/plain": [
       "<Figure size 432x288 with 1 Axes>"
      ]
     },
     "metadata": {},
     "output_type": "display_data"
    }
   ],
   "source": [
    "#row 6 has label=7\n",
    "L7 = find_min_distance_in_training(6)\n",
    "showdigit(training_data.iloc[L7,1:])"
   ]
  },
  {
   "cell_type": "code",
   "execution_count": 15,
   "metadata": {},
   "outputs": [
    {
     "name": "stderr",
     "output_type": "stream",
     "text": [
      "/Users/yuejunfang/anaconda2/lib/python2.7/site-packages/ipykernel_launcher.py:13: FutureWarning: Method .as_matrix will be removed in a future version. Use .values instead.\n",
      "  del sys.path[0]\n"
     ]
    },
    {
     "data": {
      "image/png": "[encoded data removed]",
      "text/plain": [
       "<Figure size 432x288 with 1 Axes>"
      ]
     },
     "metadata": {},
     "output_type": "display_data"
    }
   ],
   "source": [
    "#row=10 has label=8\n",
    "L8 = find_min_distance_in_training(10)\n",
    "showdigit(training_data.iloc[L8,1:])"
   ]
  },
  {
   "cell_type": "code",
   "execution_count": 16,
   "metadata": {},
   "outputs": [
    {
     "name": "stderr",
     "output_type": "stream",
     "text": [
      "/Users/yuejunfang/anaconda2/lib/python2.7/site-packages/ipykernel_launcher.py:13: FutureWarning: Method .as_matrix will be removed in a future version. Use .values instead.\n",
      "  del sys.path[0]\n"
     ]
    },
    {
     "data": {
      "image/png": "[encoded data removed]",
      "text/plain": [
       "<Figure size 432x288 with 1 Axes>"
      ]
     },
     "metadata": {},
     "output_type": "display_data"
    }
   ],
   "source": [
    "#row 11 has label=9\n",
    "L9 = find_min_distance_in_training(11)\n",
    "showdigit(training_data.iloc[L9,1:])"
   ]
  },
  {
   "cell_type": "code",
   "execution_count": 17,
   "metadata": {},
   "outputs": [
    {
     "name": "stderr",
     "output_type": "stream",
     "text": [
      "/Users/yuejunfang/anaconda2/lib/python2.7/site-packages/ipykernel_launcher.py:13: FutureWarning: Method .as_matrix will be removed in a future version. Use .values instead.\n",
      "  del sys.path[0]\n"
     ]
    },
    {
     "data": {
      "image/png": "[encoded data removed]",
      "text/plain": [
       "<Figure size 432x288 with 1 Axes>"
      ]
     },
     "metadata": {},
     "output_type": "display_data"
    }
   ],
   "source": [
    "#row=23 has label=0\n",
    "L0 = find_min_distance_in_training(23)\n",
    "showdigit(training_data.iloc[L0,1:])"
   ]
  },
  {
   "cell_type": "code",
   "execution_count": 119,
   "metadata": {},
   "outputs": [
    {
     "name": "stdout",
     "output_type": "stream",
     "text": [
      "       label  pixel0  pixel1  pixel2  pixel3  pixel4  pixel5  pixel6  pixel7  \\\n",
      "1          0       0       0       0       0       0       0       0       0   \n",
      "4          0       0       0       0       0       0       0       0       0   \n",
      "5          0       0       0       0       0       0       0       0       0   \n",
      "17         0       0       0       0       0       0       0       0       0   \n",
      "23         0       0       0       0       0       0       0       0       0   \n",
      "54         0       0       0       0       0       0       0       0       0   \n",
      "63         0       0       0       0       0       0       0       0       0   \n",
      "69         0       0       0       0       0       0       0       0       0   \n",
      "98         0       0       0       0       0       0       0       0       0   \n",
      "108        0       0       0       0       0       0       0       0       0   \n",
      "110        0       0       0       0       0       0       0       0       0   \n",
      "111        0       0       0       0       0       0       0       0       0   \n",
      "114        0       0       0       0       0       0       0       0       0   \n",
      "129        0       0       0       0       0       0       0       0       0   \n",
      "141        0       0       0       0       0       0       0       0       0   \n",
      "146        0       0       0       0       0       0       0       0       0   \n",
      "149        0       0       0       0       0       0       0       0       0   \n",
      "153        0       0       0       0       0       0       0       0       0   \n",
      "157        0       0       0       0       0       0       0       0       0   \n",
      "183        0       0       0       0       0       0       0       0       0   \n",
      "188        0       0       0       0       0       0       0       0       0   \n",
      "193        0       0       0       0       0       0       0       0       0   \n",
      "195        0       0       0       0       0       0       0       0       0   \n",
      "196        0       0       0       0       0       0       0       0       0   \n",
      "200        0       0       0       0       0       0       0       0       0   \n",
      "201        0       0       0       0       0       0       0       0       0   \n",
      "203        0       0       0       0       0       0       0       0       0   \n",
      "204        0       0       0       0       0       0       0       0       0   \n",
      "248        0       0       0       0       0       0       0       0       0   \n",
      "251        0       0       0       0       0       0       0       0       0   \n",
      "...      ...     ...     ...     ...     ...     ...     ...     ...     ...   \n",
      "41639      0       0       0       0       0       0       0       0       0   \n",
      "41641      0       0       0       0       0       0       0       0       0   \n",
      "41665      0       0       0       0       0       0       0       0       0   \n",
      "41682      0       0       0       0       0       0       0       0       0   \n",
      "41683      0       0       0       0       0       0       0       0       0   \n",
      "41694      0       0       0       0       0       0       0       0       0   \n",
      "41701      0       0       0       0       0       0       0       0       0   \n",
      "41707      0       0       0       0       0       0       0       0       0   \n",
      "41710      0       0       0       0       0       0       0       0       0   \n",
      "41722      0       0       0       0       0       0       0       0       0   \n",
      "41725      0       0       0       0       0       0       0       0       0   \n",
      "41747      0       0       0       0       0       0       0       0       0   \n",
      "41771      0       0       0       0       0       0       0       0       0   \n",
      "41773      0       0       0       0       0       0       0       0       0   \n",
      "41774      0       0       0       0       0       0       0       0       0   \n",
      "41786      0       0       0       0       0       0       0       0       0   \n",
      "41790      0       0       0       0       0       0       0       0       0   \n",
      "41800      0       0       0       0       0       0       0       0       0   \n",
      "41827      0       0       0       0       0       0       0       0       0   \n",
      "41834      0       0       0       0       0       0       0       0       0   \n",
      "41837      0       0       0       0       0       0       0       0       0   \n",
      "41853      0       0       0       0       0       0       0       0       0   \n",
      "41876      0       0       0       0       0       0       0       0       0   \n",
      "41886      0       0       0       0       0       0       0       0       0   \n",
      "41898      0       0       0       0       0       0       0       0       0   \n",
      "41930      0       0       0       0       0       0       0       0       0   \n",
      "41968      0       0       0       0       0       0       0       0       0   \n",
      "41986      0       0       0       0       0       0       0       0       0   \n",
      "41988      0       0       0       0       0       0       0       0       0   \n",
      "41995      0       0       0       0       0       0       0       0       0   \n",
      "\n",
      "       pixel8    ...     pixel774  pixel775  pixel776  pixel777  pixel778  \\\n",
      "1           0    ...            0         0         0         0         0   \n",
      "4           0    ...            0         0         0         0         0   \n",
      "5           0    ...            0         0         0         0         0   \n",
      "17          0    ...            0         0         0         0         0   \n",
      "23          0    ...            0         0         0         0         0   \n",
      "54          0    ...            0         0         0         0         0   \n",
      "63          0    ...            0         0         0         0         0   \n",
      "69          0    ...            0         0         0         0         0   \n",
      "98          0    ...            0         0         0         0         0   \n",
      "108         0    ...            0         0         0         0         0   \n",
      "110         0    ...            0         0         0         0         0   \n",
      "111         0    ...            0         0         0         0         0   \n",
      "114         0    ...            0         0         0         0         0   \n",
      "129         0    ...            0         0         0         0         0   \n",
      "141         0    ...            0         0         0         0         0   \n",
      "146         0    ...            0         0         0         0         0   \n",
      "149         0    ...            0         0         0         0         0   \n",
      "153         0    ...            0         0         0         0         0   \n",
      "157         0    ...            0         0         0         0         0   \n",
      "183         0    ...            0         0         0         0         0   \n",
      "188         0    ...            0         0         0         0         0   \n",
      "193         0    ...            0         0         0         0         0   \n",
      "195         0    ...            0         0         0         0         0   \n",
      "196         0    ...            0         0         0         0         0   \n",
      "200         0    ...            0         0         0         0         0   \n",
      "201         0    ...            0         0         0         0         0   \n",
      "203         0    ...            0         0         0         0         0   \n",
      "204         0    ...            0         0         0         0         0   \n",
      "248         0    ...            0         0         0         0         0   \n",
      "251         0    ...            0         0         0         0         0   \n",
      "...       ...    ...          ...       ...       ...       ...       ...   \n",
      "41639       0    ...            0         0         0         0         0   \n",
      "41641       0    ...            0         0         0         0         0   \n",
      "41665       0    ...            0         0         0         0         0   \n",
      "41682       0    ...            0         0         0         0         0   \n",
      "41683       0    ...            0         0         0         0         0   \n",
      "41694       0    ...            0         0         0         0         0   \n",
      "41701       0    ...            0         0         0         0         0   \n",
      "41707       0    ...            0         0         0         0         0   \n",
      "41710       0    ...            0         0         0         0         0   \n",
      "41722       0    ...            0         0         0         0         0   \n",
      "41725       0    ...            0         0         0         0         0   \n",
      "41747       0    ...            0         0         0         0         0   \n",
      "41771       0    ...            0         0         0         0         0   \n",
      "41773       0    ...            0         0         0         0         0   \n",
      "41774       0    ...            0         0         0         0         0   \n",
      "41786       0    ...            0         0         0         0         0   \n",
      "41790       0    ...            0         0         0         0         0   \n",
      "41800       0    ...            0         0         0         0         0   \n",
      "41827       0    ...            0         0         0         0         0   \n",
      "41834       0    ...            0         0         0         0         0   \n",
      "41837       0    ...            0         0         0         0         0   \n",
      "41853       0    ...            0         0         0         0         0   \n",
      "41876       0    ...            0         0         0         0         0   \n",
      "41886       0    ...            0         0         0         0         0   \n",
      "41898       0    ...            0         0         0         0         0   \n",
      "41930       0    ...            0         0         0         0         0   \n",
      "41968       0    ...            0         0         0         0         0   \n",
      "41986       0    ...            0         0         0         0         0   \n",
      "41988       0    ...            0         0         0         0         0   \n",
      "41995       0    ...            0         0         0         0         0   \n",
      "\n",
      "       pixel779  pixel780  pixel781  pixel782  pixel783  \n",
      "1             0         0         0         0         0  \n",
      "4             0         0         0         0         0  \n",
      "5             0         0         0         0         0  \n",
      "17            0         0         0         0         0  \n",
      "23            0         0         0         0         0  \n",
      "54            0         0         0         0         0  \n",
      "63            0         0         0         0         0  \n",
      "69            0         0         0         0         0  \n",
      "98            0         0         0         0         0  \n",
      "108           0         0         0         0         0  \n",
      "110           0         0         0         0         0  \n",
      "111           0         0         0         0         0  \n",
      "114           0         0         0         0         0  \n",
      "129           0         0         0         0         0  \n",
      "141           0         0         0         0         0  \n",
      "146           0         0         0         0         0  \n",
      "149           0         0         0         0         0  \n",
      "153           0         0         0         0         0  \n",
      "157           0         0         0         0         0  \n",
      "183           0         0         0         0         0  \n",
      "188           0         0         0         0         0  \n",
      "193           0         0         0         0         0  \n",
      "195           0         0         0         0         0  \n",
      "196           0         0         0         0         0  \n",
      "200           0         0         0         0         0  \n",
      "201           0         0         0         0         0  \n",
      "203           0         0         0         0         0  \n",
      "204           0         0         0         0         0  \n",
      "248           0         0         0         0         0  \n",
      "251           0         0         0         0         0  \n",
      "...         ...       ...       ...       ...       ...  \n",
      "41639         0         0         0         0         0  \n",
      "41641         0         0         0         0         0  \n",
      "41665         0         0         0         0         0  \n",
      "41682         0         0         0         0         0  \n",
      "41683         0         0         0         0         0  \n",
      "41694         0         0         0         0         0  \n",
      "41701         0         0         0         0         0  \n",
      "41707         0         0         0         0         0  \n",
      "41710         0         0         0         0         0  \n",
      "41722         0         0         0         0         0  \n",
      "41725         0         0         0         0         0  \n",
      "41747         0         0         0         0         0  \n",
      "41771         0         0         0         0         0  \n",
      "41773         0         0         0         0         0  \n",
      "41774         0         0         0         0         0  \n",
      "41786         0         0         0         0         0  \n",
      "41790         0         0         0         0         0  \n",
      "41800         0         0         0         0         0  \n",
      "41827         0         0         0         0         0  \n",
      "41834         0         0         0         0         0  \n",
      "41837         0         0         0         0         0  \n",
      "41853         0         0         0         0         0  \n",
      "41876         0         0         0         0         0  \n",
      "41886         0         0         0         0         0  \n",
      "41898         0         0         0         0         0  \n",
      "41930         0         0         0         0         0  \n",
      "41968         0         0         0         0         0  \n",
      "41986         0         0         0         0         0  \n",
      "41988         0         0         0         0         0  \n",
      "41995         0         0         0         0         0  \n",
      "\n",
      "[4132 rows x 785 columns]\n"
     ]
    }
   ],
   "source": [
    "#Question 1(e)\n",
    "#First grouping by 1s and 0s. \n",
    "zeros = None\n",
    "ones = None\n",
    "for name, group in training_data.groupby('label'):\n",
    "    if name == 0:\n",
    "        zeros = group\n",
    "    elif name == 1:\n",
    "        ones = group\n",
    "    else:\n",
    "        continue\n",
    "print zeros"
   ]
  },
  {
   "cell_type": "code",
   "execution_count": 120,
   "metadata": {},
   "outputs": [],
   "source": [
    "#calculate pair-wise distance\n",
    "def matrix_distances(df,df1):\n",
    "    matrix = cd.cdist(df.iloc[:,1:],df1.iloc[:,1:],'euclidean')#iloc[:,1:] ignore label col\n",
    "    return matrix\n",
    "zeros_dist = matrix_distances(zeros,zeros)\n",
    "ones_dist = matrix_distances(ones,ones)\n",
    "zeros_ones_dist = matrix_distances(ones,zeros)\n"
   ]
  },
  {
   "cell_type": "code",
   "execution_count": 121,
   "metadata": {},
   "outputs": [],
   "source": [
    "#remove duplicates from the lower left triangle\n",
    "zeros_arr = zeros_dist[np.triu_indices(zeros_dist.shape[0], k = 1)]\n",
    "ones_arr = ones_dist[np.triu_indices(ones_dist.shape[0], k = 1)]\n",
    "#turn matrix to array as each is distinct\n",
    "zeros_ones_arr = zeros_ones_dist.flatten()"
   ]
  },
  {
   "cell_type": "code",
   "execution_count": 122,
   "metadata": {},
   "outputs": [
    {
     "name": "stdout",
     "output_type": "stream",
     "text": [
      "[1358.31881383 2694.05345159 2898.4739088  ... 2607.41193523 2244.7964273\n",
      " 1851.24336596]\n",
      "[2217.55225418 2007.76891101 1917.77553431 ... 1088.88475056 1085.70299806\n",
      " 1279.90273068]\n"
     ]
    }
   ],
   "source": [
    "#concatenate zeros pair and ones pair distances\n",
    "genuine_arr = np.concatenate((zeros_arr, ones_arr), axis=None)"
   ]
  },
  {
   "cell_type": "code",
   "execution_count": 123,
   "metadata": {},
   "outputs": [
    {
     "data": {
      "image/png": "[encoded data removed]",
      "text/plain": [
       "<Figure size 432x288 with 1 Axes>"
      ]
     },
     "metadata": {},
     "output_type": "display_data"
    }
   ],
   "source": [
    "#1(e) histogram\n",
    "#pyplot.hist(zeros_arr, alpha=0.5, label='zeros')\n",
    "#pyplot.hist(ones_arr, alpha=0.5, label='ones')\n",
    "bins = np.linspace(0, 5000, 100)\n",
    "plt.hist(genuine_arr, bins=bins,alpha=0.5, label='genuine')\n",
    "plt.hist(zeros_ones_arr, bins=bins,  alpha=0.5, label='imposter')\n",
    "plt.legend(loc='upper right')\n",
    "plt.show()"
   ]
  },
  {
   "cell_type": "code",
   "execution_count": 127,
   "metadata": {},
   "outputs": [
    {
     "data": {
      "image/png": "[encoded data removed]",
      "text/plain": [
       "<Figure size 432x288 with 1 Axes>"
      ]
     },
     "metadata": {},
     "output_type": "display_data"
    },
    {
     "name": "stdout",
     "output_type": "stream",
     "text": [
      "0.8966375995754132\n"
     ]
    }
   ],
   "source": [
    "#1(f) ROC Curve\n",
    "#get fpr and tpr\n",
    "FPR = []\n",
    "TPR = []\n",
    "for i in np.arange(min(np.min(genuine_arr),np.min(zeros_ones_arr)), max(np.max(genuine_arr),np.max(zeros_ones_arr)), 20):\n",
    "    tpr_i = float((genuine_arr < i).sum())/float(genuine_arr.size)\n",
    "    TPR.append(tpr_i)\n",
    "    fpr_i = float((zeros_ones_arr < i).sum())/float(zeros_ones_arr.size)\n",
    "    FPR.append(fpr_i)\n",
    "#plot ROC Curve based on fpr and tpr\n",
    "plt.plot(FPR,TPR)\n",
    "plt.axis('equal')\n",
    "plt.show() \n",
    "auc = np.trapz(TPR,FPR)\n",
    "print auc"
   ]
  },
  {
   "cell_type": "code",
   "execution_count": 128,
   "metadata": {},
   "outputs": [
    {
     "name": "stdout",
     "output_type": "stream",
     "text": [
      "FPR: 0.200936092302 , TPR: 0.822178097358\n",
      "ERR: 0.191698346124\n"
     ]
    }
   ],
   "source": [
    "#Obtain Equal Error Rate \n",
    "ERR = 0.0\n",
    "for i in range(len(FPR)):\n",
    "    if float(1-FPR[i])<float(TPR[i]):\n",
    "        print 'FPR:',float(FPR[i]),', TPR:',float(TPR[i])\n",
    "        ERR = float(float(FPR[i])+float(FPR[i-1]))/2\n",
    "        break\n",
    "print 'ERR:',ERR"
   ]
  },
  {
   "cell_type": "code",
   "execution_count": 130,
   "metadata": {},
   "outputs": [],
   "source": [
    "def getneighbors(training_set, testing_set, k):\n",
    "    neighbors = cd.cdist(testing_set.loc[:,:].values, training_set.iloc[:,1:].values, 'euclidean')\n",
    "    labels = []\n",
    "    for neighbor in neighbors:\n",
    "        idx = np.argpartition(neighbor, k)\n",
    "        n_label = []\n",
    "        for j in idx[:k]:\n",
    "            n_label.append(training_set.iloc[j,0])\n",
    "        labels.append(n_label)\n",
    "    return labels"
   ]
  },
  {
   "cell_type": "code",
   "execution_count": 132,
   "metadata": {},
   "outputs": [],
   "source": [
    "def get_most_frequest_label(labels):\n",
    "    count = [0]*10\n",
    "    for i in labels:\n",
    "        count[i]+=1\n",
    "    return count.index(max(count)) \n",
    "    "
   ]
  },
  {
   "cell_type": "code",
   "execution_count": 133,
   "metadata": {},
   "outputs": [],
   "source": [
    "#Question 1(h)\n",
    "#shuttle training date set. assign half as training and half as testing\n",
    "training_data_copy = training_data.copy()\n",
    "training_data_copy = training_data_copy.sample(frac=1).reset_index(drop=True)\n",
    "half_train_data = training_data_copy[:len(training_data_copy.index)/2].copy()\n",
    "half_test_data = training_data_copy[len(training_data_copy.index)/2:].copy()\n"
   ]
  },
  {
   "cell_type": "code",
   "execution_count": 137,
   "metadata": {},
   "outputs": [],
   "source": [
    "#Question 1(g)\n",
    "\"\"\" \n",
    "    train: training data\n",
    "    test : test data\n",
    "    return predictions for each test case\n",
    "\"\"\"\n",
    "def get_preditions_from_knn(train, test, k):\n",
    "    predictions = []\n",
    "    nbs = getneighbors(train, test, k)\n",
    "    for nb in nbs:\n",
    "        predictions.append(get_most_frequest_label(nb))\n",
    "    return predictions\n"
   ]
  },
  {
   "cell_type": "code",
   "execution_count": 136,
   "metadata": {},
   "outputs": [],
   "source": [
    "def get_accuracy_rate(actual, predict):\n",
    "    acc = 0\n",
    "    for i in range(len(actual)):\n",
    "        if actual[i] == predict[i]:\n",
    "            acc+=1\n",
    "    accR = float(acc)/float(len(actual))\n",
    "    print 'Accuracy Rate when spliting training set half half then modelling:',accR\n",
    "    return accR"
   ]
  },
  {
   "cell_type": "code",
   "execution_count": 138,
   "metadata": {},
   "outputs": [
    {
     "name": "stdout",
     "output_type": "stream",
     "text": [
      "Get Neighbors\n",
      "Finish Get\n",
      "Accuracy Rate when spliting training set half half then modelling: 0.961714285714\n"
     ]
    }
   ],
   "source": [
    "#1(h) get accuracy rate\n",
    "half = get_preditions_from_knn(half_train_data, half_test_data.iloc[:,1:], 3)\n",
    "accRate = get_accuracy_rate(half_test_data.iloc[:,0].values, half)"
   ]
  },
  {
   "cell_type": "code",
   "execution_count": 139,
   "metadata": {},
   "outputs": [
    {
     "data": {
      "text/plain": [
       "0.9617142857142857"
      ]
     },
     "execution_count": 139,
     "metadata": {},
     "output_type": "execute_result"
    }
   ],
   "source": [
    "accRate"
   ]
  },
  {
   "cell_type": "code",
   "execution_count": 140,
   "metadata": {},
   "outputs": [
    {
     "name": "stdout",
     "output_type": "stream",
     "text": [
      "[[2061, 1, 1, 0, 0, 3, 7, 0, 0, 0], [0, 2305, 6, 1, 2, 0, 0, 3, 1, 2], [17, 34, 2010, 4, 0, 4, 4, 54, 5, 2], [0, 8, 20, 2081, 0, 33, 1, 12, 12, 7], [2, 24, 0, 0, 1973, 0, 9, 1, 0, 59], [7, 6, 1, 23, 1, 1836, 15, 2, 7, 14], [10, 3, 0, 0, 4, 9, 2047, 0, 1, 0], [1, 36, 5, 0, 7, 0, 0, 2101, 0, 33], [9, 33, 13, 37, 13, 36, 9, 7, 1815, 17], [8, 9, 2, 19, 29, 4, 2, 29, 4, 1967]]\n"
     ]
    }
   ],
   "source": [
    "#1(i) confusion matrix based on (h)\n",
    "def get_confusion_matrix(actual, predict):\n",
    "    confusion_m = [[0 for x in range(10)] for y in range(10)] \n",
    "    acc = 0\n",
    "    for i in range(len(actual)):\n",
    "        confusion_m[actual[i]][predict[i]]+=1\n",
    "    print confusion_m\n",
    "    return confusion_m\n",
    "cc = display_confusion_matrix(half_test_data.iloc[:,0].values, half)"
   ]
  },
  {
   "cell_type": "code",
   "execution_count": 141,
   "metadata": {},
   "outputs": [
    {
     "data": {
      "image/png": "[encoded data removed]",
      "text/plain": [
       "<Figure size 360x360 with 1 Axes>"
      ]
     },
     "metadata": {},
     "output_type": "display_data"
    }
   ],
   "source": [
    "actual_digits = [\"Actual 0\", \"1\", \"2\", \"3\", \"4\", \"5\", \"6\", \"7\", \"8\", \"9\"]\n",
    "predict_digits = [\"Predit 0\", \"1\", \"2\", \"3\",\"4\", \"5\", \"6\", \"7\", \"8\", \"9\"]\n",
    "\n",
    "fig, ax = plt.subplots(figsize=(5,5))\n",
    "im = ax.imshow(cc)\n",
    "\n",
    "# We want to show all ticks...\n",
    "ax.set_yticks(np.arange(len(actual_digits)))\n",
    "ax.set_xticks(np.arange(len(predict_digits)))\n",
    "# ... and label them with the respective list entries\n",
    "ax.set_yticklabels(actual_digits)\n",
    "ax.set_xticklabels(predict_digits)\n",
    "\n",
    "# Rotate the tick labels and set their alignment.\n",
    "plt.setp(ax.get_xticklabels(), rotation=45, ha=\"right\",\n",
    "         rotation_mode=\"anchor\")\n",
    "\n",
    "# Loop over data dimensions and create text annotations.\n",
    "for i in range(len(actual_digits)):\n",
    "    for j in range(len(predict_digits)):\n",
    "        text = ax.text(j, i, cc[i][j],\n",
    "                       ha=\"center\", va=\"center\", color=\"w\")\n",
    "\n",
    "ax.set_title(\"Confusion Matrix\")\n",
    "fig.tight_layout()\n",
    "plt.show()\n",
    "# actual 0 is often confused with 6\n",
    "# actual 2 is the most confusing. it often being recognized as  0,1,7\n",
    "# actual 3 \n",
    "# ..... \n"
   ]
  },
  {
   "cell_type": "code",
   "execution_count": 142,
   "metadata": {},
   "outputs": [
    {
     "name": "stdout",
     "output_type": "stream",
     "text": [
      "Get Neighbors\n",
      "Finish Get\n"
     ]
    }
   ],
   "source": [
    "test11 = get_preditions_from_knn(training_data, test_set, 5)"
   ]
  },
  {
   "cell_type": "code",
   "execution_count": 143,
   "metadata": {},
   "outputs": [],
   "source": [
    "f11 = open( 'file177.txt', 'a+' )\n",
    "f11.write(\"ImageId,Label\\n\")\n",
    "for i in range(len(test11)):\n",
    "    f11.write(str(i+1)+\",\"+str(test11[i])+\"\\n\")\n",
    "f11.close()"
   ]
  },
  {
   "cell_type": "code",
   "execution_count": null,
   "metadata": {},
   "outputs": [],
   "source": []
  }
 ],
 "metadata": {
  "kernelspec": {
   "display_name": "Python 2",
   "language": "python",
   "name": "python2"
  },
  "language_info": {
   "codemirror_mode": {
    "name": "ipython",
    "version": 2
   },
   "file_extension": ".py",
   "mimetype": "text/x-python",
   "name": "python",
   "nbconvert_exporter": "python",
   "pygments_lexer": "ipython2",
   "version": "2.7.15"
  }
 },
 "nbformat": 4,
 "nbformat_minor": 2
}
